{
 "cells": [
  {
   "cell_type": "markdown",
   "metadata": {},
   "source": [
    "## EXAMEN NLP :\n",
    "### Sujet : classifieur de commentaire produit.\n",
    "#### Produit : Les cinq blessures qui empêchent d'être soi-même.\n",
    "#### lien : https://www.amazon.fr/cinq-blessures-emp%C3%AAchent-d%C3%AAtre-soi-m%C3%AAme/dp/2266229486/ref=cm_cr_arp_d_product_top?ie=UTF8\n",
    "\n",
    "#### Classe : Data Scientist\n",
    "#### Année : 2020 - 2021"
   ]
  },
  {
   "cell_type": "markdown",
   "metadata": {},
   "source": [
    "#### Présenté par :\n",
    "| Prénoms       |     Nom         |   \n",
    "| ------------- |: -------------: |\n",
    "| Aboubacar Sidiki        |        SIDIBE        |\n",
    "\n",
    "GROUPE GEMA / IA-SCHOOL"
   ]
  },
  {
   "cell_type": "markdown",
   "metadata": {},
   "source": [
    "# Partie 1: Collection et Nettoyage des données"
   ]
  },
  {
   "cell_type": "markdown",
   "metadata": {},
   "source": [
    "## 1) Collection des commentaires produits d’amazone"
   ]
  },
  {
   "cell_type": "markdown",
   "metadata": {},
   "source": [
    "### Procédures de scrapping\n",
    "- a) Récupérer les commentaires positifs\n",
    "- b) Récupérer les commentaires négatifs\n",
    "- c) Concatener les deux datasets (commentaires positifs + commentaires négatifs)"
   ]
  },
  {
   "cell_type": "code",
   "execution_count": 2,
   "metadata": {},
   "outputs": [],
   "source": [
    "#!pip install unidecode"
   ]
  },
  {
   "cell_type": "code",
   "execution_count": 3,
   "metadata": {},
   "outputs": [],
   "source": [
    "import requests\n",
    "from bs4 import BeautifulSoup\n",
    "import time\n",
    "import random\n",
    "import pandas as pd\n",
    "import numpy as np\n",
    "import re\n",
    "from unidecode import unidecode\n",
    "import pickle"
   ]
  },
  {
   "cell_type": "code",
   "execution_count": 4,
   "metadata": {},
   "outputs": [],
   "source": [
    "#### en-tête html utilisée pour la coordination entre le client (navigateur) et le serveur de open food fact, simule le comportement d'un navigateur\n",
    "header = {\"Accept\": \"image/webp,*/*\",\n",
    "\t\t\t\"Accept-Encoding\": \"gzip, deflate, br\",\n",
    "\t\t\t\"Accept-Language\": \"fr,fr-FR;q=0.8,en-US;q=0.5,en;q=0.3\",\n",
    "\t\t\t\"Connection\": \"keep-alive\",\n",
    "\t\t\t\"User-Agent\": \"Mozilla/5.0 (Windows NT 10.0; Win64; x64; rv:89.0) Gecko/20100101 Firefox/89.0\"\n",
    "\t\t}"
   ]
  },
  {
   "cell_type": "code",
   "execution_count": 5,
   "metadata": {},
   "outputs": [],
   "source": [
    "def parse_string(value):\n",
    "    \"\"\"\n",
    "    Parse la chaine en supprimant \\n \\t \\r\n",
    "    \n",
    "    :param value : la valeur de la chaine à parser\n",
    "    :type value : String\n",
    "    \n",
    "    :return : la chaine parsée\n",
    "    :rtype : String\n",
    "    \"\"\"\n",
    "    if value is np.nan:\n",
    "        return value\n",
    "    else:\n",
    "        chaine = value.replace('\\n', ',')\n",
    "        chaine = \" \".join(chaine.split()).rstrip(',').strip(',').strip()\n",
    "        return chaine"
   ]
  },
  {
   "cell_type": "markdown",
   "metadata": {},
   "source": [
    "##### a. les commentaires positifs"
   ]
  },
  {
   "cell_type": "code",
   "execution_count": 10,
   "metadata": {},
   "outputs": [],
   "source": [
    "data_comment_positif = []\n",
    "for i in range(83):\n",
    "    try:\n",
    "        comment_url_positive = 'https://www.amazon.fr/cinq-blessures-emp%C3%AAchent-d%C3%AAtre-soi-m%C3%AAme/product-reviews/2266229486/ref=cm_cr_arp_d_viewpnt_lft?ie=UTF8&reviewerType=all_reviews&filterByStar=positive&pageNumber={}'.format(str(i))\n",
    "        res = requests.get(comment_url_positive, headers = header)\n",
    "        soup = BeautifulSoup(res.text, 'html.parser')\n",
    "        content = soup.findAll('div', attrs={'data-hook':'review'})\n",
    "        for j in range(len(content)):\n",
    "            label = content[j].findAll('a', attrs={'class':'a-link-normal'})[0].text.split(',')[0]\n",
    "            comment = content[j].findAll('span',attrs={\"data-hook\":\"review-body\"})[0].text.strip()\n",
    "            data_comment_positif.append([comment, label])\n",
    "    except:\n",
    "        continue     "
   ]
  },
  {
   "cell_type": "code",
   "execution_count": 11,
   "metadata": {},
   "outputs": [
    {
     "data": {
      "text/plain": [
       "830"
      ]
     },
     "execution_count": 11,
     "metadata": {},
     "output_type": "execute_result"
    }
   ],
   "source": [
    "len(data_comment_positif) #### nombre de commentaires positifs obtenus"
   ]
  },
  {
   "cell_type": "code",
   "execution_count": 14,
   "metadata": {},
   "outputs": [],
   "source": [
    "### création du dataframe contenant les commentaires positifs\n",
    "df_pos = pd.DataFrame(data_comment_positif, columns=['commentaire', 'label', ])"
   ]
  },
  {
   "cell_type": "code",
   "execution_count": 15,
   "metadata": {},
   "outputs": [
    {
     "data": {
      "text/html": [
       "<div>\n",
       "<style scoped>\n",
       "    .dataframe tbody tr th:only-of-type {\n",
       "        vertical-align: middle;\n",
       "    }\n",
       "\n",
       "    .dataframe tbody tr th {\n",
       "        vertical-align: top;\n",
       "    }\n",
       "\n",
       "    .dataframe thead th {\n",
       "        text-align: right;\n",
       "    }\n",
       "</style>\n",
       "<table border=\"1\" class=\"dataframe\">\n",
       "  <thead>\n",
       "    <tr style=\"text-align: right;\">\n",
       "      <th></th>\n",
       "      <th>commentaire</th>\n",
       "      <th>label</th>\n",
       "    </tr>\n",
       "  </thead>\n",
       "  <tbody>\n",
       "    <tr>\n",
       "      <th>0</th>\n",
       "      <td>Lise Bourbeau, l'auteur de ces Cinq blessures ...</td>\n",
       "      <td>4</td>\n",
       "    </tr>\n",
       "    <tr>\n",
       "      <th>1</th>\n",
       "      <td>Ce livre est une révélation. Je n’au Jamais pu...</td>\n",
       "      <td>5</td>\n",
       "    </tr>\n",
       "    <tr>\n",
       "      <th>2</th>\n",
       "      <td>livre parfait pour commencer à se connaître et...</td>\n",
       "      <td>5</td>\n",
       "    </tr>\n",
       "    <tr>\n",
       "      <th>3</th>\n",
       "      <td>Si effectivement vous n’avez aucune connaissan...</td>\n",
       "      <td>4</td>\n",
       "    </tr>\n",
       "    <tr>\n",
       "      <th>4</th>\n",
       "      <td>Alors ok il est vrai que je me suis reconnue d...</td>\n",
       "      <td>4</td>\n",
       "    </tr>\n",
       "  </tbody>\n",
       "</table>\n",
       "</div>"
      ],
      "text/plain": [
       "                                         commentaire label\n",
       "0  Lise Bourbeau, l'auteur de ces Cinq blessures ...     4\n",
       "1  Ce livre est une révélation. Je n’au Jamais pu...     5\n",
       "2  livre parfait pour commencer à se connaître et...     5\n",
       "3  Si effectivement vous n’avez aucune connaissan...     4\n",
       "4  Alors ok il est vrai que je me suis reconnue d...     4"
      ]
     },
     "execution_count": 15,
     "metadata": {},
     "output_type": "execute_result"
    }
   ],
   "source": [
    "### entête du dataframe\n",
    "df_pos.head()"
   ]
  },
  {
   "cell_type": "code",
   "execution_count": 16,
   "metadata": {},
   "outputs": [],
   "source": [
    "### export to csv positif comment\n",
    "df_pos.to_csv('comment_positif.csv', index=False, encoding='utf-8')"
   ]
  },
  {
   "cell_type": "markdown",
   "metadata": {},
   "source": [
    "##### b. les commentaires negatifs"
   ]
  },
  {
   "cell_type": "code",
   "execution_count": 18,
   "metadata": {},
   "outputs": [],
   "source": [
    "data_comment_negatif = []\n",
    "for i in range(28):\n",
    "    try:\n",
    "        comment_url_negatif = 'https://www.amazon.fr/cinq-blessures-emp%C3%AAchent-d%C3%AAtre-soi-m%C3%AAme/product-reviews/2266229486/ref=cm_cr_arp_d_viewpnt_rgt?ie=UTF8&reviewerType=all_reviews&filterByStar=critical&pageNumber={}'.format(str(i))\n",
    "        res = requests.get(comment_url_negatif, headers = header)\n",
    "        soup = BeautifulSoup(res.text, 'html.parser')\n",
    "        content = soup.findAll('div', attrs={'data-hook':'review'})\n",
    "        for j in range(len(content)):\n",
    "            label = content[j].findAll('a', attrs={'class':'a-link-normal'})[0].text.split(',')[0]\n",
    "            comment = content[j].findAll('span',attrs={\"data-hook\":\"review-body\"})[0].text.strip()\n",
    "            data_comment_negatif.append([comment, label])\n",
    "    except:\n",
    "        continue   "
   ]
  },
  {
   "cell_type": "code",
   "execution_count": 19,
   "metadata": {},
   "outputs": [
    {
     "data": {
      "text/plain": [
       "280"
      ]
     },
     "execution_count": 19,
     "metadata": {},
     "output_type": "execute_result"
    }
   ],
   "source": [
    "len(data_comment_negatif) #### nombre de commentaires négatifs obtenus"
   ]
  },
  {
   "cell_type": "code",
   "execution_count": 20,
   "metadata": {},
   "outputs": [],
   "source": [
    "### création du dataframe contenant les commentaires negatif\n",
    "df_neg = pd.DataFrame(data_comment_negatif, columns=['commentaire', 'label'])"
   ]
  },
  {
   "cell_type": "code",
   "execution_count": 21,
   "metadata": {},
   "outputs": [
    {
     "data": {
      "text/html": [
       "<div>\n",
       "<style scoped>\n",
       "    .dataframe tbody tr th:only-of-type {\n",
       "        vertical-align: middle;\n",
       "    }\n",
       "\n",
       "    .dataframe tbody tr th {\n",
       "        vertical-align: top;\n",
       "    }\n",
       "\n",
       "    .dataframe thead th {\n",
       "        text-align: right;\n",
       "    }\n",
       "</style>\n",
       "<table border=\"1\" class=\"dataframe\">\n",
       "  <thead>\n",
       "    <tr style=\"text-align: right;\">\n",
       "      <th></th>\n",
       "      <th>commentaire</th>\n",
       "      <th>label</th>\n",
       "    </tr>\n",
       "  </thead>\n",
       "  <tbody>\n",
       "    <tr>\n",
       "      <th>0</th>\n",
       "      <td>Franchement, je me suis arrêté au chapitre 1. ...</td>\n",
       "      <td>1</td>\n",
       "    </tr>\n",
       "    <tr>\n",
       "      <th>1</th>\n",
       "      <td>Un livre à l'américaine qui fait très secte ! ...</td>\n",
       "      <td>1</td>\n",
       "    </tr>\n",
       "    <tr>\n",
       "      <th>2</th>\n",
       "      <td>Un peu déçue...Lise Bourbeau décrit les \"5 ble...</td>\n",
       "      <td>2</td>\n",
       "    </tr>\n",
       "    <tr>\n",
       "      <th>3</th>\n",
       "      <td>Le contenu de ce livre est complètement délira...</td>\n",
       "      <td>1</td>\n",
       "    </tr>\n",
       "    <tr>\n",
       "      <th>4</th>\n",
       "      <td>J'ai trouvé le thème du livre intéressant mais...</td>\n",
       "      <td>1</td>\n",
       "    </tr>\n",
       "  </tbody>\n",
       "</table>\n",
       "</div>"
      ],
      "text/plain": [
       "                                         commentaire label\n",
       "0  Franchement, je me suis arrêté au chapitre 1. ...     1\n",
       "1  Un livre à l'américaine qui fait très secte ! ...     1\n",
       "2  Un peu déçue...Lise Bourbeau décrit les \"5 ble...     2\n",
       "3  Le contenu de ce livre est complètement délira...     1\n",
       "4  J'ai trouvé le thème du livre intéressant mais...     1"
      ]
     },
     "execution_count": 21,
     "metadata": {},
     "output_type": "execute_result"
    }
   ],
   "source": [
    "### entête du dataframe\n",
    "df_neg.head()"
   ]
  },
  {
   "cell_type": "code",
   "execution_count": 22,
   "metadata": {},
   "outputs": [],
   "source": [
    "### export to csv negatif comment\n",
    "df_neg.to_csv('comment_negatif.csv', index=False, encoding='utf-8')"
   ]
  },
  {
   "cell_type": "markdown",
   "metadata": {},
   "source": [
    "##### c. Concatenation des deux datasets (commentaires positifs + commentaires négatifs)"
   ]
  },
  {
   "cell_type": "code",
   "execution_count": 23,
   "metadata": {},
   "outputs": [],
   "source": [
    "df = pd.concat([df_pos, df_neg], ignore_index=True) #### concatenation des deux datasets"
   ]
  },
  {
   "cell_type": "code",
   "execution_count": 24,
   "metadata": {},
   "outputs": [],
   "source": [
    "df.to_csv('comments.csv', index=False, encoding='utf-8') #### sauvegarde du dataset final"
   ]
  },
  {
   "cell_type": "markdown",
   "metadata": {},
   "source": [
    "## 2. Analyse exploiratoire et nettoyage des données"
   ]
  },
  {
   "cell_type": "code",
   "execution_count": 80,
   "metadata": {},
   "outputs": [],
   "source": [
    "### chargement des données\n",
    "df = pd.read_csv('comments.csv',encoding=\"utf-8\")"
   ]
  },
  {
   "cell_type": "markdown",
   "metadata": {},
   "source": [
    "#### a. Analyse exploiratoire"
   ]
  },
  {
   "cell_type": "code",
   "execution_count": 81,
   "metadata": {},
   "outputs": [
    {
     "data": {
      "text/plain": [
       "(1110, 2)"
      ]
     },
     "execution_count": 81,
     "metadata": {},
     "output_type": "execute_result"
    }
   ],
   "source": [
    "df.shape"
   ]
  },
  {
   "cell_type": "code",
   "execution_count": 82,
   "metadata": {},
   "outputs": [
    {
     "data": {
      "text/html": [
       "<div>\n",
       "<style scoped>\n",
       "    .dataframe tbody tr th:only-of-type {\n",
       "        vertical-align: middle;\n",
       "    }\n",
       "\n",
       "    .dataframe tbody tr th {\n",
       "        vertical-align: top;\n",
       "    }\n",
       "\n",
       "    .dataframe thead th {\n",
       "        text-align: right;\n",
       "    }\n",
       "</style>\n",
       "<table border=\"1\" class=\"dataframe\">\n",
       "  <thead>\n",
       "    <tr style=\"text-align: right;\">\n",
       "      <th></th>\n",
       "      <th>commentaire</th>\n",
       "      <th>label</th>\n",
       "    </tr>\n",
       "  </thead>\n",
       "  <tbody>\n",
       "    <tr>\n",
       "      <th>0</th>\n",
       "      <td>Lise Bourbeau, l'auteur de ces Cinq blessures ...</td>\n",
       "      <td>4</td>\n",
       "    </tr>\n",
       "    <tr>\n",
       "      <th>1</th>\n",
       "      <td>Ce livre est une révélation. Je n’au Jamais pu...</td>\n",
       "      <td>5</td>\n",
       "    </tr>\n",
       "    <tr>\n",
       "      <th>2</th>\n",
       "      <td>livre parfait pour commencer à se connaître et...</td>\n",
       "      <td>5</td>\n",
       "    </tr>\n",
       "    <tr>\n",
       "      <th>3</th>\n",
       "      <td>Si effectivement vous n’avez aucune connaissan...</td>\n",
       "      <td>4</td>\n",
       "    </tr>\n",
       "    <tr>\n",
       "      <th>4</th>\n",
       "      <td>Alors ok il est vrai que je me suis reconnue d...</td>\n",
       "      <td>4</td>\n",
       "    </tr>\n",
       "  </tbody>\n",
       "</table>\n",
       "</div>"
      ],
      "text/plain": [
       "                                         commentaire label\n",
       "0  Lise Bourbeau, l'auteur de ces Cinq blessures ...     4\n",
       "1  Ce livre est une révélation. Je n’au Jamais pu...     5\n",
       "2  livre parfait pour commencer à se connaître et...     5\n",
       "3  Si effectivement vous n’avez aucune connaissan...     4\n",
       "4  Alors ok il est vrai que je me suis reconnue d...     4"
      ]
     },
     "execution_count": 82,
     "metadata": {},
     "output_type": "execute_result"
    }
   ],
   "source": [
    "df.head()"
   ]
  },
  {
   "cell_type": "code",
   "execution_count": 83,
   "metadata": {},
   "outputs": [
    {
     "data": {
      "text/html": [
       "<div>\n",
       "<style scoped>\n",
       "    .dataframe tbody tr th:only-of-type {\n",
       "        vertical-align: middle;\n",
       "    }\n",
       "\n",
       "    .dataframe tbody tr th {\n",
       "        vertical-align: top;\n",
       "    }\n",
       "\n",
       "    .dataframe thead th {\n",
       "        text-align: right;\n",
       "    }\n",
       "</style>\n",
       "<table border=\"1\" class=\"dataframe\">\n",
       "  <thead>\n",
       "    <tr style=\"text-align: right;\">\n",
       "      <th></th>\n",
       "      <th>commentaire</th>\n",
       "      <th>label</th>\n",
       "    </tr>\n",
       "  </thead>\n",
       "  <tbody>\n",
       "    <tr>\n",
       "      <th>count</th>\n",
       "      <td>1110</td>\n",
       "      <td>1110</td>\n",
       "    </tr>\n",
       "    <tr>\n",
       "      <th>unique</th>\n",
       "      <td>1058</td>\n",
       "      <td>6</td>\n",
       "    </tr>\n",
       "    <tr>\n",
       "      <th>top</th>\n",
       "      <td>Très bien</td>\n",
       "      <td>5</td>\n",
       "    </tr>\n",
       "    <tr>\n",
       "      <th>freq</th>\n",
       "      <td>5</td>\n",
       "      <td>606</td>\n",
       "    </tr>\n",
       "  </tbody>\n",
       "</table>\n",
       "</div>"
      ],
      "text/plain": [
       "       commentaire label\n",
       "count         1110  1110\n",
       "unique        1058     6\n",
       "top      Très bien     5\n",
       "freq             5   606"
      ]
     },
     "execution_count": 83,
     "metadata": {},
     "output_type": "execute_result"
    }
   ],
   "source": [
    "df.describe()"
   ]
  },
  {
   "cell_type": "code",
   "execution_count": 84,
   "metadata": {},
   "outputs": [
    {
     "data": {
      "text/html": [
       "<div>\n",
       "<style scoped>\n",
       "    .dataframe tbody tr th:only-of-type {\n",
       "        vertical-align: middle;\n",
       "    }\n",
       "\n",
       "    .dataframe tbody tr th {\n",
       "        vertical-align: top;\n",
       "    }\n",
       "\n",
       "    .dataframe thead th {\n",
       "        text-align: right;\n",
       "    }\n",
       "</style>\n",
       "<table border=\"1\" class=\"dataframe\">\n",
       "  <thead>\n",
       "    <tr style=\"text-align: right;\">\n",
       "      <th></th>\n",
       "      <th>commentaire</th>\n",
       "      <th>label</th>\n",
       "    </tr>\n",
       "  </thead>\n",
       "  <tbody>\n",
       "    <tr>\n",
       "      <th>790</th>\n",
       "      <td>un des meilleurs livres de developpement perso...</td>\n",
       "      <td>Achat vérifié</td>\n",
       "    </tr>\n",
       "    <tr>\n",
       "      <th>791</th>\n",
       "      <td>Great book</td>\n",
       "      <td>Achat vérifié</td>\n",
       "    </tr>\n",
       "    <tr>\n",
       "      <th>792</th>\n",
       "      <td>Il m'a plu. Toutefois, heureusement qu'il y a ...</td>\n",
       "      <td>Achat vérifié</td>\n",
       "    </tr>\n",
       "    <tr>\n",
       "      <th>793</th>\n",
       "      <td>Super livre</td>\n",
       "      <td>Achat vérifié</td>\n",
       "    </tr>\n",
       "    <tr>\n",
       "      <th>794</th>\n",
       "      <td>J'ai adoré cet ouvrage. Très utile pour l'évol...</td>\n",
       "      <td>Achat vérifié</td>\n",
       "    </tr>\n",
       "  </tbody>\n",
       "</table>\n",
       "</div>"
      ],
      "text/plain": [
       "                                           commentaire          label\n",
       "790  un des meilleurs livres de developpement perso...  Achat vérifié\n",
       "791                                         Great book  Achat vérifié\n",
       "792  Il m'a plu. Toutefois, heureusement qu'il y a ...  Achat vérifié\n",
       "793                                        Super livre  Achat vérifié\n",
       "794  J'ai adoré cet ouvrage. Très utile pour l'évol...  Achat vérifié"
      ]
     },
     "execution_count": 84,
     "metadata": {},
     "output_type": "execute_result"
    }
   ],
   "source": [
    "df[790:830].head() ### entête des lignes erronées"
   ]
  },
  {
   "cell_type": "code",
   "execution_count": 85,
   "metadata": {},
   "outputs": [
    {
     "data": {
      "text/plain": [
       "40"
      ]
     },
     "execution_count": 85,
     "metadata": {},
     "output_type": "execute_result"
    }
   ],
   "source": [
    "len(df[790:830]) ### nombre de ligne erronées"
   ]
  },
  {
   "cell_type": "code",
   "execution_count": 86,
   "metadata": {},
   "outputs": [],
   "source": [
    "### nettoyage des lignes erronées\n",
    "df = df.drop(labels=range(790, 830), axis=0)"
   ]
  },
  {
   "cell_type": "code",
   "execution_count": 87,
   "metadata": {},
   "outputs": [
    {
     "data": {
      "text/plain": [
       "(1070, 2)"
      ]
     },
     "execution_count": 87,
     "metadata": {},
     "output_type": "execute_result"
    }
   ],
   "source": [
    "df.shape ### nouvelle taille du df après nettoyage"
   ]
  },
  {
   "cell_type": "code",
   "execution_count": 88,
   "metadata": {},
   "outputs": [],
   "source": [
    "### convertion du label en numérique\n",
    "df['label'] = pd.to_numeric(df['label'])"
   ]
  },
  {
   "cell_type": "code",
   "execution_count": 89,
   "metadata": {},
   "outputs": [
    {
     "data": {
      "text/plain": [
       "790"
      ]
     },
     "execution_count": 89,
     "metadata": {},
     "output_type": "execute_result"
    }
   ],
   "source": [
    "len(df[df['label']>=4]) #### nombre de commentaires positives"
   ]
  },
  {
   "cell_type": "code",
   "execution_count": 90,
   "metadata": {},
   "outputs": [
    {
     "data": {
      "text/plain": [
       "280"
      ]
     },
     "execution_count": 90,
     "metadata": {},
     "output_type": "execute_result"
    }
   ],
   "source": [
    "len(df[df['label']<4]) #### nombre de commentaires negatifs"
   ]
  },
  {
   "cell_type": "code",
   "execution_count": 91,
   "metadata": {},
   "outputs": [
    {
     "data": {
      "text/plain": [
       "Index(['commentaire', 'label'], dtype='object')"
      ]
     },
     "execution_count": 91,
     "metadata": {},
     "output_type": "execute_result"
    }
   ],
   "source": [
    "df.columns ### liste des colonnes dans le df"
   ]
  },
  {
   "cell_type": "code",
   "execution_count": 92,
   "metadata": {},
   "outputs": [
    {
     "data": {
      "text/plain": [
       "5    606\n",
       "4    184\n",
       "1    125\n",
       "3     95\n",
       "2     60\n",
       "Name: label, dtype: int64"
      ]
     },
     "execution_count": 92,
     "metadata": {},
     "output_type": "execute_result"
    }
   ],
   "source": [
    "df['label'].value_counts() ### nombre de commentaire par scores"
   ]
  },
  {
   "cell_type": "markdown",
   "metadata": {},
   "source": [
    "#### b. Nettoyage"
   ]
  },
  {
   "cell_type": "markdown",
   "metadata": {},
   "source": [
    "#### b.1) Macro nettoyage\n",
    "\n",
    "- Enlever les duplicats\n",
    "- Enlever les textes < seuil_mot\n",
    "- Equilibrer le corpus (postif / négatif)"
   ]
  },
  {
   "cell_type": "code",
   "execution_count": 93,
   "metadata": {},
   "outputs": [
    {
     "name": "stdout",
     "output_type": "stream",
     "text": [
      "(1070, 2)\n"
     ]
    },
    {
     "data": {
      "text/plain": [
       "(1023, 2)"
      ]
     },
     "execution_count": 93,
     "metadata": {},
     "output_type": "execute_result"
    }
   ],
   "source": [
    "### on supprime les valeurs duplicates\n",
    "print(df.shape)\n",
    "df.drop_duplicates(subset=['commentaire'],inplace=True)\n",
    "df.shape"
   ]
  },
  {
   "cell_type": "code",
   "execution_count": 94,
   "metadata": {},
   "outputs": [],
   "source": [
    "### sueillage du mot\n",
    "seuil_mot=15\n",
    "def nb_mot(texte):\n",
    "    return len(texte.split(' '))\n",
    "\n",
    "df['Longueur']=df['commentaire'].apply(nb_mot)\n",
    "df=df[df['Longueur']>seuil_mot]"
   ]
  },
  {
   "cell_type": "code",
   "execution_count": 95,
   "metadata": {},
   "outputs": [],
   "source": [
    "# Binarisation 0 (1,2,3) / 1 (4,5)\n",
    "df.loc[df[df['label'].astype(int)<4].index,'label']=0\n",
    "df.loc[df[df['label'].astype(int)>3].index,'label']=1"
   ]
  },
  {
   "cell_type": "code",
   "execution_count": 96,
   "metadata": {},
   "outputs": [],
   "source": [
    "# Egalisateur : on prend autant de texte positif que negatif (don j'identifie le label le moins present)\n",
    "m=df['label'].value_counts().min()\n",
    "Comments=pd.concat([df[df['label'].astype(int)==1].sample(m),df[df['label'].astype(int)==0].sample(m)])"
   ]
  },
  {
   "cell_type": "code",
   "execution_count": 97,
   "metadata": {},
   "outputs": [
    {
     "data": {
      "text/plain": [
       "1    250\n",
       "0    250\n",
       "Name: label, dtype: int64"
      ]
     },
     "execution_count": 97,
     "metadata": {},
     "output_type": "execute_result"
    }
   ],
   "source": [
    "Comments['label'].value_counts() ### repartitions des commentaires après égalisation"
   ]
  },
  {
   "cell_type": "markdown",
   "metadata": {},
   "source": [
    "#### b.2) Nettoyage spécifique pour de l’analyse de texte\n",
    "\n",
    "- Stop words\n",
    "- carcteres speciaux (dont ponctuation)\n",
    "- normalisation (accents et minuscule)"
   ]
  },
  {
   "cell_type": "code",
   "execution_count": 104,
   "metadata": {},
   "outputs": [],
   "source": [
    "def nettoyage(texte):\n",
    "    #charge la liste de stop words\n",
    "    with open('stop-w_fr.txt') as f:\n",
    "        s_w=list(set(unidecode(f.read()).split('\\n')))\n",
    "    s_w.append(\"possible\")\n",
    "    s_w.append(\"être\")\n",
    "    s_w.append(\"faire\")\n",
    "    s_w.append(\"ca\")\n",
    "    \n",
    "    # Chargement du lem\n",
    "    lem=pickle.load(open('lemmatize_fr.pickle','rb'))\n",
    "    lem['abonnement']=\"abonné\"\n",
    "    lem['abonner']=\"abonné\"\n",
    "    lem['abimes']='abime'\n",
    "    \n",
    "    tmp=[]\n",
    "    # Normalisation : accents et minuscule\n",
    "    texte=unidecode(texte.lower())\n",
    "    p='[a-z]{2,}'\n",
    "    final=''\n",
    "    for mot in re.findall(p,texte):\n",
    "        if mot not in s_w :\n",
    "            try:\n",
    "                if lem[mot.lower()] not in s_w:\n",
    "                    final=final.strip()+' '+lem[mot.lower()]\n",
    "            except:\n",
    "                final=final.strip()+' '+mot.lower()\n",
    "    return final"
   ]
  },
  {
   "cell_type": "code",
   "execution_count": 102,
   "metadata": {},
   "outputs": [
    {
     "data": {
      "text/plain": [
       "'element modifier mr bean'"
      ]
     },
     "execution_count": 102,
     "metadata": {},
     "output_type": "execute_result"
    }
   ],
   "source": [
    "#### test1 du nettoyeur\n",
    "nettoyage(\"élément à modifier chez Mr Bean\")"
   ]
  },
  {
   "cell_type": "code",
   "execution_count": 105,
   "metadata": {},
   "outputs": [
    {
     "data": {
      "text/plain": [
       "'salut terrien grand vison simplifiees coucou'"
      ]
     },
     "execution_count": 105,
     "metadata": {},
     "output_type": "execute_result"
    }
   ],
   "source": [
    "#### test2 du nettoyeur\n",
    "nettoyage(\"Salut-à'tous les terriens des grandes visons simplifiées , ça va là et Coùcoù!\")"
   ]
  },
  {
   "cell_type": "code",
   "execution_count": 119,
   "metadata": {},
   "outputs": [],
   "source": [
    "### nettoyage des commentaires dans le df\n",
    "Comments['commentaire_nettoyer']=[nettoyage(elem) for elem in Comments['commentaire']]"
   ]
  },
  {
   "cell_type": "code",
   "execution_count": 111,
   "metadata": {},
   "outputs": [
    {
     "data": {
      "text/plain": [
       "Index(['commentaire', 'label', 'Longueur', 'commentaire_nettoyer'], dtype='object')"
      ]
     },
     "execution_count": 111,
     "metadata": {},
     "output_type": "execute_result"
    }
   ],
   "source": [
    "Comments.columns"
   ]
  },
  {
   "cell_type": "code",
   "execution_count": 122,
   "metadata": {},
   "outputs": [
    {
     "data": {
      "text/html": [
       "<div>\n",
       "<style scoped>\n",
       "    .dataframe tbody tr th:only-of-type {\n",
       "        vertical-align: middle;\n",
       "    }\n",
       "\n",
       "    .dataframe tbody tr th {\n",
       "        vertical-align: top;\n",
       "    }\n",
       "\n",
       "    .dataframe thead th {\n",
       "        text-align: right;\n",
       "    }\n",
       "</style>\n",
       "<table border=\"1\" class=\"dataframe\">\n",
       "  <thead>\n",
       "    <tr style=\"text-align: right;\">\n",
       "      <th></th>\n",
       "      <th>commentaire</th>\n",
       "      <th>commentaire_nettoyer</th>\n",
       "      <th>label</th>\n",
       "    </tr>\n",
       "  </thead>\n",
       "  <tbody>\n",
       "    <tr>\n",
       "      <th>300</th>\n",
       "      <td>Utilisation pour développement personnel. Exce...</td>\n",
       "      <td>utilisation developpement personnel excellent ...</td>\n",
       "      <td>1</td>\n",
       "    </tr>\n",
       "    <tr>\n",
       "      <th>677</th>\n",
       "      <td>livre pour tous et toutes a lire et relire pou...</td>\n",
       "      <td>livrer lire relire mieux decouvrir auteur form...</td>\n",
       "      <td>1</td>\n",
       "    </tr>\n",
       "    <tr>\n",
       "      <th>400</th>\n",
       "      <td>on apprend beaucoup sur soi et on peut changer...</td>\n",
       "      <td>apprendre changer choses comprendre tolerance ...</td>\n",
       "      <td>1</td>\n",
       "    </tr>\n",
       "    <tr>\n",
       "      <th>420</th>\n",
       "      <td>C'est exactement ce que je recherchai, ce livr...</td>\n",
       "      <td>rechercher livrer interessant recommander comp...</td>\n",
       "      <td>1</td>\n",
       "    </tr>\n",
       "    <tr>\n",
       "      <th>541</th>\n",
       "      <td>Nous en avons tous ! Personne n'est parfait ! ...</td>\n",
       "      <td>parfait adorer recommander remettre question r...</td>\n",
       "      <td>1</td>\n",
       "    </tr>\n",
       "    <tr>\n",
       "      <th>...</th>\n",
       "      <td>...</td>\n",
       "      <td>...</td>\n",
       "      <td>...</td>\n",
       "    </tr>\n",
       "    <tr>\n",
       "      <th>949</th>\n",
       "      <td>J ai acheté ce livre par curiosité mais je ne ...</td>\n",
       "      <td>achete livrer curiosite retrouver adhere</td>\n",
       "      <td>0</td>\n",
       "    </tr>\n",
       "    <tr>\n",
       "      <th>1089</th>\n",
       "      <td>J'espérais avoir une bonne surprise avec ce li...</td>\n",
       "      <td>esperais bonne surprise livrer confirmer exist...</td>\n",
       "      <td>0</td>\n",
       "    </tr>\n",
       "    <tr>\n",
       "      <th>1082</th>\n",
       "      <td>Ce livre est un ramassis de conneries .. étant...</td>\n",
       "      <td>livrer ramassis connerie master psychologie ho...</td>\n",
       "      <td>0</td>\n",
       "    </tr>\n",
       "    <tr>\n",
       "      <th>837</th>\n",
       "      <td>Je suis déçu qu'Amazon ait mis ce livre comme ...</td>\n",
       "      <td>decu amazon mis livrer best seller lit controv...</td>\n",
       "      <td>0</td>\n",
       "    </tr>\n",
       "    <tr>\n",
       "      <th>1037</th>\n",
       "      <td>Les références à la réincarnation m'ont surpri...</td>\n",
       "      <td>references reincarnation surpris attendre expl...</td>\n",
       "      <td>0</td>\n",
       "    </tr>\n",
       "  </tbody>\n",
       "</table>\n",
       "<p>500 rows × 3 columns</p>\n",
       "</div>"
      ],
      "text/plain": [
       "                                            commentaire  \\\n",
       "300   Utilisation pour développement personnel. Exce...   \n",
       "677   livre pour tous et toutes a lire et relire pou...   \n",
       "400   on apprend beaucoup sur soi et on peut changer...   \n",
       "420   C'est exactement ce que je recherchai, ce livr...   \n",
       "541   Nous en avons tous ! Personne n'est parfait ! ...   \n",
       "...                                                 ...   \n",
       "949   J ai acheté ce livre par curiosité mais je ne ...   \n",
       "1089  J'espérais avoir une bonne surprise avec ce li...   \n",
       "1082  Ce livre est un ramassis de conneries .. étant...   \n",
       "837   Je suis déçu qu'Amazon ait mis ce livre comme ...   \n",
       "1037  Les références à la réincarnation m'ont surpri...   \n",
       "\n",
       "                                   commentaire_nettoyer  label  \n",
       "300   utilisation developpement personnel excellent ...      1  \n",
       "677   livrer lire relire mieux decouvrir auteur form...      1  \n",
       "400   apprendre changer choses comprendre tolerance ...      1  \n",
       "420   rechercher livrer interessant recommander comp...      1  \n",
       "541   parfait adorer recommander remettre question r...      1  \n",
       "...                                                 ...    ...  \n",
       "949            achete livrer curiosite retrouver adhere      0  \n",
       "1089  esperais bonne surprise livrer confirmer exist...      0  \n",
       "1082  livrer ramassis connerie master psychologie ho...      0  \n",
       "837   decu amazon mis livrer best seller lit controv...      0  \n",
       "1037  references reincarnation surpris attendre expl...      0  \n",
       "\n",
       "[500 rows x 3 columns]"
      ]
     },
     "execution_count": 122,
     "metadata": {},
     "output_type": "execute_result"
    }
   ],
   "source": [
    "Comments[['commentaire', 'commentaire_nettoyer','label']] ### df avec les commentaires nettoyer"
   ]
  },
  {
   "cell_type": "code",
   "execution_count": 124,
   "metadata": {},
   "outputs": [],
   "source": [
    "df_final = Comments[['commentaire_nettoyer','label']] ### on ne garde que les deux colonnes"
   ]
  },
  {
   "cell_type": "code",
   "execution_count": 125,
   "metadata": {},
   "outputs": [],
   "source": [
    "df_final = df_final.rename(columns={'commentaire_nettoyer': 'commentaire'}) ### on renomme la colonne 'commentaire_nettoyer' en 'commentaire' dans le df_final"
   ]
  },
  {
   "cell_type": "code",
   "execution_count": 126,
   "metadata": {},
   "outputs": [
    {
     "data": {
      "text/html": [
       "<div>\n",
       "<style scoped>\n",
       "    .dataframe tbody tr th:only-of-type {\n",
       "        vertical-align: middle;\n",
       "    }\n",
       "\n",
       "    .dataframe tbody tr th {\n",
       "        vertical-align: top;\n",
       "    }\n",
       "\n",
       "    .dataframe thead th {\n",
       "        text-align: right;\n",
       "    }\n",
       "</style>\n",
       "<table border=\"1\" class=\"dataframe\">\n",
       "  <thead>\n",
       "    <tr style=\"text-align: right;\">\n",
       "      <th></th>\n",
       "      <th>commentaire</th>\n",
       "      <th>label</th>\n",
       "    </tr>\n",
       "  </thead>\n",
       "  <tbody>\n",
       "    <tr>\n",
       "      <th>300</th>\n",
       "      <td>utilisation developpement personnel excellent ...</td>\n",
       "      <td>1</td>\n",
       "    </tr>\n",
       "    <tr>\n",
       "      <th>677</th>\n",
       "      <td>livrer lire relire mieux decouvrir auteur form...</td>\n",
       "      <td>1</td>\n",
       "    </tr>\n",
       "    <tr>\n",
       "      <th>400</th>\n",
       "      <td>apprendre changer choses comprendre tolerance ...</td>\n",
       "      <td>1</td>\n",
       "    </tr>\n",
       "    <tr>\n",
       "      <th>420</th>\n",
       "      <td>rechercher livrer interessant recommander comp...</td>\n",
       "      <td>1</td>\n",
       "    </tr>\n",
       "    <tr>\n",
       "      <th>541</th>\n",
       "      <td>parfait adorer recommander remettre question r...</td>\n",
       "      <td>1</td>\n",
       "    </tr>\n",
       "  </tbody>\n",
       "</table>\n",
       "</div>"
      ],
      "text/plain": [
       "                                           commentaire  label\n",
       "300  utilisation developpement personnel excellent ...      1\n",
       "677  livrer lire relire mieux decouvrir auteur form...      1\n",
       "400  apprendre changer choses comprendre tolerance ...      1\n",
       "420  rechercher livrer interessant recommander comp...      1\n",
       "541  parfait adorer recommander remettre question r...      1"
      ]
     },
     "execution_count": 126,
     "metadata": {},
     "output_type": "execute_result"
    }
   ],
   "source": [
    "df_final.head() ### df final"
   ]
  },
  {
   "cell_type": "code",
   "execution_count": 127,
   "metadata": {},
   "outputs": [],
   "source": [
    "### sauvegarde du dataframe final avec les données nettoyées et formatées.\n",
    "df_final.to_csv('comment_clean.csv', index=False, encoding='utf-8')"
   ]
  }
 ],
 "metadata": {
  "kernelspec": {
   "display_name": "Python 3",
   "language": "python",
   "name": "python3"
  },
  "language_info": {
   "codemirror_mode": {
    "name": "ipython",
    "version": 3
   },
   "file_extension": ".py",
   "mimetype": "text/x-python",
   "name": "python",
   "nbconvert_exporter": "python",
   "pygments_lexer": "ipython3",
   "version": "3.8.5"
  }
 },
 "nbformat": 4,
 "nbformat_minor": 4
}
